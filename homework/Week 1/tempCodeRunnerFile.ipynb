modulus = 7
base = 17
modInverse = pow(base, -1, modulus)