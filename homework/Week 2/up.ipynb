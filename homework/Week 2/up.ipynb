{
 "cells": [
  {
   "cell_type": "markdown",
   "metadata": {},
   "source": [
    "# Homework 2\n",
    "\n",
    "Implement ECDSA from scratch\n",
    "\n",
    "1) pick a private key\n",
    "\n",
    "2) generate the public key using that private key (not the eth address, the public key)\n",
    "\n",
    "3) pick message m and hash it to produce h (h can be though of as a 256 bit number)\n",
    "\n",
    "4) sign m using your private key and a randomly chosen nonce k. produce (r, s, h, PubKey)\n",
    "\n",
    "5) verify (r, s, h, PubKey) is valid\n",
    "\n",
    "You may use a library for point multiplication, but everything else you must do from scratch"
   ]
  },
  {
   "cell_type": "markdown",
   "metadata": {},
   "source": [
    "From scratch"
   ]
  },
  {
   "cell_type": "code",
   "execution_count": null,
   "metadata": {},
   "outputs": [],
   "source": []
  },
  {
   "cell_type": "code",
   "execution_count": 105,
   "metadata": {},
   "outputs": [],
   "source": [
    "# Using secp256k1 parameters\n",
    "a = 0\n",
    "b = 7\n",
    "p = 2**256 - 2**32 - 977\n",
    "G = (0x79BE667EF9DCBBAC55A06295CE870B07029BFCDB2DCE28D959F2815B16F81798, \n",
    "     0x483ADA7726A3C4655DA4FBFC0E1108A8FD17B448A68554199C47D08FFB10D4B8)\n",
    "# in decimal n = 115792089237316195423570985008687907852837564279074904382605163141518161494337\n",
    "\n",
    "n = 0xFFFFFFFFFFFFFFFFFFFFFFFFFFFFFFFEBAAEDCE6AF48A03BBFD25E8CD0364141 # in hex\n",
    "\n",
    "def inverse_mod(k, p):\n",
    "    \"\"\" Return the modular inverse of k modulo p.\"\"\"\n",
    "    if k == 0:\n",
    "        raise ZeroDivisionError('division by zero')\n",
    "    if k < 0:\n",
    "        return p - inverse_mod(-k, p)\n",
    "    return pow(k, p - 2, p)\n",
    "\n",
    "def point_add(point1, point2):\n",
    "    \"\"\" Elliptic curve point addition. \"\"\"\n",
    "    x1, y1 = point1\n",
    "    x2, y2 = point2\n",
    "    \n",
    "    if x1 == x2 and y1 == y2:\n",
    "        m = (3 * x1 * x1) * inverse_mod(2 * y1, p)\n",
    "    else:\n",
    "        m = (y2 - y1) * inverse_mod(x2 - x1, p)\n",
    "\n",
    "    x3 = m*m - x1 - x2\n",
    "    y3 = m*(x1 - x3) - y1\n",
    "    return (x3 % p, y3 % p)\n",
    "\n",
    "def point_mul(point, scalar):\n",
    "    \"\"\" Elliptic curve point multiplication. \"\"\"\n",
    "    result = None\n",
    "    addend = point\n",
    "    while scalar:\n",
    "        if scalar & 1:\n",
    "            if result is None:\n",
    "                result = addend\n",
    "            else:\n",
    "                result = point_add(result, addend)\n",
    "        addend = point_add(addend, addend)\n",
    "        scalar >>= 1\n",
    "    return result\n"
   ]
  },
  {
   "cell_type": "code",
   "execution_count": 106,
   "metadata": {},
   "outputs": [],
   "source": [
    "import random\n",
    "\n",
    "def generate_keypair():\n",
    "    d = random.randint(1, n-1)\n",
    "    Q = point_mul(G, d)\n",
    "    return d, Q\n"
   ]
  },
  {
   "cell_type": "code",
   "execution_count": 107,
   "metadata": {},
   "outputs": [],
   "source": [
    "import hashlib\n",
    "\n",
    "def hash(message):\n",
    "    return hashlib.sha256(message).digest()"
   ]
  },
  {
   "cell_type": "code",
   "execution_count": 108,
   "metadata": {},
   "outputs": [],
   "source": [
    "def sign_message(d, message):\n",
    "    z = int.from_bytes(hash(message), 'big')\n",
    "    r = 0\n",
    "    s = 0\n",
    "    while not r or not s:\n",
    "        k = random.randint(1, n-1) # nonce\n",
    "        P = point_mul(G, k)\n",
    "        r = P[0] % n\n",
    "        s = (inverse_mod(k, n) * (z + r * d)) % n\n",
    "    return r, s\n"
   ]
  },
  {
   "cell_type": "code",
   "execution_count": 111,
   "metadata": {},
   "outputs": [],
   "source": [
    "def verify_signature(pubkey, message, signature):\n",
    "    r, s = signature\n",
    "    z = int.from_bytes(hash(message), 'big')\n",
    "    \n",
    "    w = inverse_mod(s, n)\n",
    "    u1 = (z * w) % n\n",
    "    u2 = (r * w) % n\n",
    "    \n",
    "    P = point_add(point_mul(G, u1), point_mul(pubkey, u2))\n",
    "    return r == P[0] % n\n"
   ]
  },
  {
   "cell_type": "code",
   "execution_count": 112,
   "metadata": {},
   "outputs": [
    {
     "name": "stdout",
     "output_type": "stream",
     "text": [
      "Signature valid? True\n"
     ]
    }
   ],
   "source": [
    "private_key, public_key = generate_keypair()\n",
    "message = b\"Hello, there\"\n",
    "signature = sign_message(private_key, message)\n",
    "is_valid = verify_signature(public_key, message, signature)\n",
    "print(\"Signature valid?\", is_valid)\n"
   ]
  },
  {
   "cell_type": "code",
   "execution_count": null,
   "metadata": {},
   "outputs": [],
   "source": []
  }
 ],
 "metadata": {
  "kernelspec": {
   "display_name": "Python 3",
   "language": "python",
   "name": "python3"
  },
  "language_info": {
   "codemirror_mode": {
    "name": "ipython",
    "version": 3
   },
   "file_extension": ".py",
   "mimetype": "text/x-python",
   "name": "python",
   "nbconvert_exporter": "python",
   "pygments_lexer": "ipython3",
   "version": "3.8.8"
  }
 },
 "nbformat": 4,
 "nbformat_minor": 2
}